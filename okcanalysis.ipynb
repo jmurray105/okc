{
 "cells": [
  {
   "cell_type": "code",
   "execution_count": 1,
   "id": "59832cd4",
   "metadata": {},
   "outputs": [],
   "source": [
    "import numpy as np\n",
    "import pandas as pd"
   ]
  },
  {
   "cell_type": "code",
   "execution_count": 3,
   "id": "f39610ab",
   "metadata": {},
   "outputs": [
    {
     "data": {
      "text/html": [
       "<div>\n",
       "<style scoped>\n",
       "    .dataframe tbody tr th:only-of-type {\n",
       "        vertical-align: middle;\n",
       "    }\n",
       "\n",
       "    .dataframe tbody tr th {\n",
       "        vertical-align: top;\n",
       "    }\n",
       "\n",
       "    .dataframe thead th {\n",
       "        text-align: right;\n",
       "    }\n",
       "</style>\n",
       "<table border=\"1\" class=\"dataframe\">\n",
       "  <thead>\n",
       "    <tr style=\"text-align: right;\">\n",
       "      <th></th>\n",
       "      <th>team</th>\n",
       "      <th>x</th>\n",
       "      <th>y</th>\n",
       "      <th>fgmade</th>\n",
       "    </tr>\n",
       "  </thead>\n",
       "  <tbody>\n",
       "    <tr>\n",
       "      <th>0</th>\n",
       "      <td>Team A</td>\n",
       "      <td>-23.1</td>\n",
       "      <td>3.5</td>\n",
       "      <td>0</td>\n",
       "    </tr>\n",
       "    <tr>\n",
       "      <th>1</th>\n",
       "      <td>Team A</td>\n",
       "      <td>0.0</td>\n",
       "      <td>25.1</td>\n",
       "      <td>1</td>\n",
       "    </tr>\n",
       "    <tr>\n",
       "      <th>2</th>\n",
       "      <td>Team A</td>\n",
       "      <td>0.5</td>\n",
       "      <td>1.0</td>\n",
       "      <td>1</td>\n",
       "    </tr>\n",
       "    <tr>\n",
       "      <th>3</th>\n",
       "      <td>Team A</td>\n",
       "      <td>-5.6</td>\n",
       "      <td>5.2</td>\n",
       "      <td>0</td>\n",
       "    </tr>\n",
       "    <tr>\n",
       "      <th>4</th>\n",
       "      <td>Team A</td>\n",
       "      <td>4.0</td>\n",
       "      <td>14.5</td>\n",
       "      <td>1</td>\n",
       "    </tr>\n",
       "  </tbody>\n",
       "</table>\n",
       "</div>"
      ],
      "text/plain": [
       "     team     x     y  fgmade\n",
       "0  Team A -23.1   3.5       0\n",
       "1  Team A   0.0  25.1       1\n",
       "2  Team A   0.5   1.0       1\n",
       "3  Team A  -5.6   5.2       0\n",
       "4  Team A   4.0  14.5       1"
      ]
     },
     "execution_count": 3,
     "metadata": {},
     "output_type": "execute_result"
    }
   ],
   "source": [
    "df = pd.read_csv('shots_data.csv')\n",
    "df.head()"
   ]
  },
  {
   "cell_type": "code",
   "execution_count": 15,
   "id": "951ea7f0",
   "metadata": {},
   "outputs": [],
   "source": [
    "def getDist(x, y):\n",
    "    return np.sqrt(np.square(x) + np.square(y))"
   ]
  },
  {
   "cell_type": "code",
   "execution_count": 16,
   "id": "a15b4d67",
   "metadata": {},
   "outputs": [],
   "source": [
    "def getZone(x_vals, y_vals):\n",
    "    zones = []\n",
    "    for i in range(len(x_vals)):\n",
    "        \n",
    "        x = x_vals[i]\n",
    "        y = y_vals[i]\n",
    "        dist = getDist(x, y)\n",
    "        \n",
    "        if abs(x) > 22.0 and y <= 7.8:\n",
    "            zones.append('C3')\n",
    "        elif dist > 23.75 and y > 7.8:\n",
    "            zones.append('NC3')\n",
    "        else:\n",
    "            zones.append('2PT')\n",
    "    return zones "
   ]
  },
  {
   "cell_type": "code",
   "execution_count": 17,
   "id": "6e43c190",
   "metadata": {},
   "outputs": [
    {
     "data": {
      "text/html": [
       "<div>\n",
       "<style scoped>\n",
       "    .dataframe tbody tr th:only-of-type {\n",
       "        vertical-align: middle;\n",
       "    }\n",
       "\n",
       "    .dataframe tbody tr th {\n",
       "        vertical-align: top;\n",
       "    }\n",
       "\n",
       "    .dataframe thead th {\n",
       "        text-align: right;\n",
       "    }\n",
       "</style>\n",
       "<table border=\"1\" class=\"dataframe\">\n",
       "  <thead>\n",
       "    <tr style=\"text-align: right;\">\n",
       "      <th></th>\n",
       "      <th>team</th>\n",
       "      <th>x</th>\n",
       "      <th>y</th>\n",
       "      <th>fgmade</th>\n",
       "      <th>zone</th>\n",
       "    </tr>\n",
       "  </thead>\n",
       "  <tbody>\n",
       "    <tr>\n",
       "      <th>0</th>\n",
       "      <td>Team A</td>\n",
       "      <td>-23.1</td>\n",
       "      <td>3.5</td>\n",
       "      <td>0</td>\n",
       "      <td>C3</td>\n",
       "    </tr>\n",
       "    <tr>\n",
       "      <th>1</th>\n",
       "      <td>Team A</td>\n",
       "      <td>0.0</td>\n",
       "      <td>25.1</td>\n",
       "      <td>1</td>\n",
       "      <td>NC3</td>\n",
       "    </tr>\n",
       "    <tr>\n",
       "      <th>2</th>\n",
       "      <td>Team A</td>\n",
       "      <td>0.5</td>\n",
       "      <td>1.0</td>\n",
       "      <td>1</td>\n",
       "      <td>2PT</td>\n",
       "    </tr>\n",
       "    <tr>\n",
       "      <th>3</th>\n",
       "      <td>Team A</td>\n",
       "      <td>-5.6</td>\n",
       "      <td>5.2</td>\n",
       "      <td>0</td>\n",
       "      <td>2PT</td>\n",
       "    </tr>\n",
       "    <tr>\n",
       "      <th>4</th>\n",
       "      <td>Team A</td>\n",
       "      <td>4.0</td>\n",
       "      <td>14.5</td>\n",
       "      <td>1</td>\n",
       "      <td>2PT</td>\n",
       "    </tr>\n",
       "  </tbody>\n",
       "</table>\n",
       "</div>"
      ],
      "text/plain": [
       "     team     x     y  fgmade zone\n",
       "0  Team A -23.1   3.5       0   C3\n",
       "1  Team A   0.0  25.1       1  NC3\n",
       "2  Team A   0.5   1.0       1  2PT\n",
       "3  Team A  -5.6   5.2       0  2PT\n",
       "4  Team A   4.0  14.5       1  2PT"
      ]
     },
     "execution_count": 17,
     "metadata": {},
     "output_type": "execute_result"
    }
   ],
   "source": [
    "df['zone'] = getZone(df['x'], df['y'])\n",
    "df.head()"
   ]
  },
  {
   "cell_type": "code",
   "execution_count": 18,
   "id": "11e753ce",
   "metadata": {},
   "outputs": [
    {
     "data": {
      "text/html": [
       "<div>\n",
       "<style scoped>\n",
       "    .dataframe tbody tr th:only-of-type {\n",
       "        vertical-align: middle;\n",
       "    }\n",
       "\n",
       "    .dataframe tbody tr th {\n",
       "        vertical-align: top;\n",
       "    }\n",
       "\n",
       "    .dataframe thead th {\n",
       "        text-align: right;\n",
       "    }\n",
       "</style>\n",
       "<table border=\"1\" class=\"dataframe\">\n",
       "  <thead>\n",
       "    <tr style=\"text-align: right;\">\n",
       "      <th></th>\n",
       "      <th>team</th>\n",
       "      <th>x</th>\n",
       "      <th>y</th>\n",
       "      <th>fgmade</th>\n",
       "      <th>zone</th>\n",
       "    </tr>\n",
       "  </thead>\n",
       "  <tbody>\n",
       "    <tr>\n",
       "      <th>280</th>\n",
       "      <td>Team B</td>\n",
       "      <td>2.5</td>\n",
       "      <td>6.2</td>\n",
       "      <td>0</td>\n",
       "      <td>2PT</td>\n",
       "    </tr>\n",
       "    <tr>\n",
       "      <th>281</th>\n",
       "      <td>Team B</td>\n",
       "      <td>7.4</td>\n",
       "      <td>18.3</td>\n",
       "      <td>1</td>\n",
       "      <td>2PT</td>\n",
       "    </tr>\n",
       "    <tr>\n",
       "      <th>282</th>\n",
       "      <td>Team B</td>\n",
       "      <td>1.1</td>\n",
       "      <td>0.1</td>\n",
       "      <td>0</td>\n",
       "      <td>2PT</td>\n",
       "    </tr>\n",
       "    <tr>\n",
       "      <th>283</th>\n",
       "      <td>Team B</td>\n",
       "      <td>-1.6</td>\n",
       "      <td>25.6</td>\n",
       "      <td>0</td>\n",
       "      <td>NC3</td>\n",
       "    </tr>\n",
       "    <tr>\n",
       "      <th>284</th>\n",
       "      <td>Team B</td>\n",
       "      <td>-14.4</td>\n",
       "      <td>21.7</td>\n",
       "      <td>1</td>\n",
       "      <td>NC3</td>\n",
       "    </tr>\n",
       "  </tbody>\n",
       "</table>\n",
       "</div>"
      ],
      "text/plain": [
       "       team     x     y  fgmade zone\n",
       "280  Team B   2.5   6.2       0  2PT\n",
       "281  Team B   7.4  18.3       1  2PT\n",
       "282  Team B   1.1   0.1       0  2PT\n",
       "283  Team B  -1.6  25.6       0  NC3\n",
       "284  Team B -14.4  21.7       1  NC3"
      ]
     },
     "execution_count": 18,
     "metadata": {},
     "output_type": "execute_result"
    }
   ],
   "source": [
    "teamA = df[df['team'] == 'Team A']\n",
    "teamB = df[df['team'] == 'Team B']\n",
    "teamB.head()"
   ]
  },
  {
   "cell_type": "code",
   "execution_count": 20,
   "id": "bb254b3e",
   "metadata": {},
   "outputs": [
    {
     "name": "stdout",
     "output_type": "stream",
     "text": [
      "0.6071428571428571 0.5821428571428572\n"
     ]
    }
   ],
   "source": [
    "twos_A = teamA[teamA['zone'] == '2PT']\n",
    "per_two_A = len(twos_A) / len(teamA)\n",
    "\n",
    "twos_B = teamB[teamB['zone'] == '2PT']\n",
    "per_two_B = len(twos_B) / len(teamB)\n",
    "\n",
    "print(per_two_A, per_two_B)"
   ]
  },
  {
   "cell_type": "code",
   "execution_count": 21,
   "id": "ae2be39d",
   "metadata": {},
   "outputs": [
    {
     "name": "stdout",
     "output_type": "stream",
     "text": [
      "0.32142857142857145 0.34285714285714286\n"
     ]
    }
   ],
   "source": [
    "nc3_A = teamA[teamA['zone'] == 'NC3']\n",
    "per_nc3_A = len(nc3_A) / len(teamA)\n",
    "\n",
    "nc3_B = teamB[teamB['zone'] == 'NC3']\n",
    "per_nc3_B = len(nc3_B) / len(teamB)\n",
    "\n",
    "print(per_nc3_A, per_nc3_B)"
   ]
  },
  {
   "cell_type": "code",
   "execution_count": 22,
   "id": "6edde5cc",
   "metadata": {},
   "outputs": [
    {
     "name": "stdout",
     "output_type": "stream",
     "text": [
      "0.07142857142857142 0.075\n"
     ]
    }
   ],
   "source": [
    "c3_A = teamA[teamA['zone'] == 'C3']\n",
    "per_c3_A = len(c3_A) / len(teamA)\n",
    "\n",
    "c3_B = teamB[teamB['zone'] == 'C3']\n",
    "per_c3_B = len(c3_B) / len(teamB)\n",
    "\n",
    "print(per_c3_A, per_c3_B)"
   ]
  },
  {
   "cell_type": "code",
   "execution_count": 24,
   "id": "2e32f685",
   "metadata": {},
   "outputs": [
    {
     "name": "stdout",
     "output_type": "stream",
     "text": [
      "1.0\n",
      "1.0\n"
     ]
    }
   ],
   "source": [
    "print(per_two_A + per_nc3_A + per_c3_A)\n",
    "print(per_two_B + per_nc3_B + per_c3_B)"
   ]
  },
  {
   "cell_type": "code",
   "execution_count": 28,
   "id": "1bf99359",
   "metadata": {},
   "outputs": [],
   "source": [
    "made_twos_A = twos_A[twos_A['fgmade'] == 1]\n",
    "num_made_twos_A = len(made_twos_A)\n",
    "\n",
    "made_twos_B = twos_B[twos_B['fgmade'] == 1]\n",
    "num_made_twos_B = len(made_twos_B)\n",
    "\n",
    "att_twos_A = len(twos_A)\n",
    "att_twos_B = len(twos_B)"
   ]
  },
  {
   "cell_type": "code",
   "execution_count": 29,
   "id": "b77ab755",
   "metadata": {},
   "outputs": [],
   "source": [
    "made_nc3_A = nc3_A[nc3_A['fgmade'] == 1]\n",
    "num_made_nc3_A = len(made_nc3_A)\n",
    "\n",
    "made_nc3_B = nc3_B[nc3_B['fgmade'] == 1]\n",
    "num_made_nc3_B = len(made_nc3_B)\n",
    "\n",
    "att_nc3_A = len(nc3_A)\n",
    "att_nc3_B = len(nc3_B)"
   ]
  },
  {
   "cell_type": "code",
   "execution_count": 30,
   "id": "ac593747",
   "metadata": {},
   "outputs": [],
   "source": [
    "made_c3_A = c3_A[c3_A['fgmade'] == 1]\n",
    "num_made_c3_A = len(made_c3_A)\n",
    "\n",
    "made_c3_B = c3_B[c3_B['fgmade'] == 1]\n",
    "num_made_c3_B = len(made_c3_B)\n",
    "\n",
    "att_c3_A = len(c3_A)\n",
    "att_c3_B = len(c3_B)"
   ]
  },
  {
   "cell_type": "code",
   "execution_count": 31,
   "id": "64215ce3",
   "metadata": {},
   "outputs": [],
   "source": [
    "def getEFG(made, att, three_pm):\n",
    "    numerator = made + (0.5 * three_pm)\n",
    "    return numerator / att"
   ]
  },
  {
   "cell_type": "code",
   "execution_count": 32,
   "id": "5e68e669",
   "metadata": {},
   "outputs": [],
   "source": [
    "A_3pm = num_made_nc3_A + num_made_c3_A\n",
    "B_3pm = num_made_nc3_B + num_made_c3_B"
   ]
  },
  {
   "cell_type": "code",
   "execution_count": 39,
   "id": "33bbda68",
   "metadata": {},
   "outputs": [],
   "source": [
    "A_twos_efg = getEFG(num_made_twos_A, att_twos_A, 0)\n",
    "A_nc3_efg = getEFG(num_made_nc3_A, att_nc3_A, num_made_nc3_A)\n",
    "A_c3_efg = getEFG(num_made_c3_A, att_c3_A, num_made_c3_A)"
   ]
  },
  {
   "cell_type": "code",
   "execution_count": 40,
   "id": "98b42f6a",
   "metadata": {},
   "outputs": [],
   "source": [
    "B_twos_efg = getEFG(num_made_twos_B, att_twos_B, 0)\n",
    "B_nc3_efg = getEFG(num_made_nc3_B, att_nc3_B, num_made_nc3_B)\n",
    "B_c3_efg = getEFG(num_made_c3_B, att_c3_B, num_made_c3_B)"
   ]
  },
  {
   "cell_type": "code",
   "execution_count": 41,
   "id": "4317394c",
   "metadata": {},
   "outputs": [
    {
     "name": "stdout",
     "output_type": "stream",
     "text": [
      "0.4 0.48333333333333334 0.6\n",
      "0.4601226993865031 0.546875 0.35714285714285715\n"
     ]
    }
   ],
   "source": [
    "print(A_twos_efg, A_nc3_efg, A_c3_efg)\n",
    "print(B_twos_efg, B_nc3_efg, B_c3_efg)"
   ]
  },
  {
   "cell_type": "code",
   "execution_count": null,
   "id": "cde6a663",
   "metadata": {},
   "outputs": [],
   "source": []
  },
  {
   "cell_type": "code",
   "execution_count": null,
   "id": "34dcfba3",
   "metadata": {},
   "outputs": [],
   "source": []
  }
 ],
 "metadata": {
  "kernelspec": {
   "display_name": "Python 3",
   "language": "python",
   "name": "python3"
  },
  "language_info": {
   "codemirror_mode": {
    "name": "ipython",
    "version": 3
   },
   "file_extension": ".py",
   "mimetype": "text/x-python",
   "name": "python",
   "nbconvert_exporter": "python",
   "pygments_lexer": "ipython3",
   "version": "3.8.8"
  }
 },
 "nbformat": 4,
 "nbformat_minor": 5
}
